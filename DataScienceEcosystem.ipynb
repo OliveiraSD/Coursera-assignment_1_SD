{
 "cells": [
  {
   "cell_type": "markdown",
   "id": "3656466d-0c8c-4e00-abb2-8e08030e0ae3",
   "metadata": {},
   "source": [
    "# Data Science Tools and Ecosystem"
   ]
  },
  {
   "cell_type": "markdown",
   "id": "c60dfdce-0298-418a-9b2e-c67f8e3db156",
   "metadata": {},
   "source": [
    "In this notebook, Data Science Tools and Ecosystem are summarized."
   ]
  },
  {
   "cell_type": "markdown",
   "id": "0815fb22-6006-4b72-b198-ed6b08371b7d",
   "metadata": {},
   "source": [
    "**Objectives:**"
   ]
  },
  {
   "cell_type": "markdown",
   "id": "0bd460e4-20c5-42f7-b6be-7a5349930114",
   "metadata": {},
   "source": [
    "- Python\n",
    "- Java\n",
    "- SQL"
   ]
  },
  {
   "cell_type": "markdown",
   "id": "db879df0-9d3c-45b3-bbd8-35d27e46fb7e",
   "metadata": {},
   "source": [
    "Some of the popular languages that Data Scientists use are:"
   ]
  },
  {
   "cell_type": "markdown",
   "id": "e38289f8-8a9f-4d70-91cd-70ff0933373d",
   "metadata": {},
   "source": [
    "1. R\n",
    "2. Python\n",
    "3. C++"
   ]
  },
  {
   "cell_type": "markdown",
   "id": "8279926c-6f38-4049-9db6-6344c6dc20fa",
   "metadata": {},
   "source": [
    "Some of the commonly used libraries used by Data Scientists include:"
   ]
  },
  {
   "cell_type": "markdown",
   "id": "a232d31f-2b72-479c-b3f0-235fe033253e",
   "metadata": {},
   "source": [
    "1. Pandas\n",
    "2. Matplotlib\n",
    "3. SciPy"
   ]
  },
  {
   "cell_type": "markdown",
   "id": "b78d1944-2134-4a97-bc9c-a14bea89ea26",
   "metadata": {},
   "source": [
    "Data Science Tools\n",
    "------------------\n",
    "RStudio\n",
    "------------------\n",
    "Jupyter Notebook\n",
    "------------------\n",
    "Watson Studio\n",
    "------------------\n"
   ]
  },
  {
   "cell_type": "markdown",
   "id": "24a0a524-8f73-45a0-8233-b4941b9c9602",
   "metadata": {},
   "source": [
    "### Below are a few examples of evaluating arithmetic expressions in Python"
   ]
  },
  {
   "cell_type": "markdown",
   "id": "2b4ad0b2-933b-4c3a-97e6-a8b5a9fbdd42",
   "metadata": {},
   "source": [
    "This a simple arithmetic expression to multiply then add integers"
   ]
  },
  {
   "cell_type": "code",
   "execution_count": 3,
   "id": "bc651985-a2a9-4953-9b90-dcef7f1e9499",
   "metadata": {
    "tags": []
   },
   "outputs": [
    {
     "data": {
      "text/plain": [
       "17"
      ]
     },
     "execution_count": 3,
     "metadata": {},
     "output_type": "execute_result"
    }
   ],
   "source": [
    "(3*4)+5"
   ]
  },
  {
   "cell_type": "markdown",
   "id": "bf96e4b9-b799-4195-b99b-4b36e274c1cf",
   "metadata": {},
   "source": [
    "This will convert 200 minutes to hours by diving by 60"
   ]
  },
  {
   "cell_type": "code",
   "execution_count": 4,
   "id": "e11b2f87-4714-4504-8e0c-fc0881ead6d3",
   "metadata": {
    "tags": []
   },
   "outputs": [
    {
     "data": {
      "text/plain": [
       "3.3333333333333335"
      ]
     },
     "execution_count": 4,
     "metadata": {},
     "output_type": "execute_result"
    }
   ],
   "source": [
    "200/6"
   ]
  },
  {
   "cell_type": "markdown",
   "id": "b7e58803-6a0b-4ae6-87bd-039acada6437",
   "metadata": {},
   "source": [
    "## Author\n",
    "   Suellen"
   ]
  }
 ],
 "metadata": {
  "kernelspec": {
   "display_name": "Python",
   "language": "python",
   "name": "conda-env-python-py"
  },
  "language_info": {
   "codemirror_mode": {
    "name": "ipython",
    "version": 3
   },
   "file_extension": ".py",
   "mimetype": "text/x-python",
   "name": "python",
   "nbconvert_exporter": "python",
   "pygments_lexer": "ipython3",
   "version": "3.7.12"
  }
 },
 "nbformat": 4,
 "nbformat_minor": 5
}
